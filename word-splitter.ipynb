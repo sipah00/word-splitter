{
 "cells": [
  {
   "cell_type": "markdown",
   "id": "4c1fe76d-0bba-4f68-9f53-61a01718b620",
   "metadata": {},
   "source": [
    "# Problem Statement:\n",
    "Develop a machine learning model that takes a concatenated text string without spaces (e.g., `\"helloworld\"`) as input and outputs the correctly spaced version (e.g., `\"hello world\"`). The goal is to accurately predict word boundaries and insert spaces in the appropriate positions."
   ]
  },
  {
   "cell_type": "markdown",
   "id": "138d5840-4821-4d9d-ab82-15d96906d459",
   "metadata": {},
   "source": [
    "# Let's create a dataset"
   ]
  },
  {
   "cell_type": "code",
   "execution_count": 35,
   "id": "b5d223ba-d1dc-4e2f-a5e1-f9371a55a2af",
   "metadata": {},
   "outputs": [],
   "source": [
    "from datasets import load_dataset, load_from_disk"
   ]
  },
  {
   "cell_type": "code",
   "execution_count": 2,
   "id": "8a746086-66a9-404c-bd6d-b65a865e7690",
   "metadata": {},
   "outputs": [
    {
     "data": {
      "application/vnd.jupyter.widget-view+json": {
       "model_id": "3c1f595a2efb49b79633c8c09af08870",
       "version_major": 2,
       "version_minor": 0
      },
      "text/plain": [
       "README.md:   0%|          | 0.00/18.5k [00:00<?, ?B/s]"
      ]
     },
     "metadata": {},
     "output_type": "display_data"
    },
    {
     "data": {
      "application/vnd.jupyter.widget-view+json": {
       "model_id": "92bc7a33a06b47389d8d92a9787931ea",
       "version_major": 2,
       "version_minor": 0
      },
      "text/plain": [
       "bookcorpus.py:   0%|          | 0.00/3.25k [00:00<?, ?B/s]"
      ]
     },
     "metadata": {},
     "output_type": "display_data"
    },
    {
     "name": "stdin",
     "output_type": "stream",
     "text": [
      "The repository for bookcorpus/bookcorpus contains custom code which must be executed to correctly load the dataset. You can inspect the repository content at https://hf.co/datasets/bookcorpus/bookcorpus.\n",
      "You can avoid this prompt in future by passing the argument `trust_remote_code=True`.\n",
      "\n",
      "Do you wish to run the custom code? [y/N]  y\n"
     ]
    },
    {
     "data": {
      "application/vnd.jupyter.widget-view+json": {
       "model_id": "b988e53e9034471080c9384f544e386f",
       "version_major": 2,
       "version_minor": 0
      },
      "text/plain": [
       "Downloading data:   0%|          | 0.00/1.18G [00:00<?, ?B/s]"
      ]
     },
     "metadata": {},
     "output_type": "display_data"
    },
    {
     "data": {
      "application/vnd.jupyter.widget-view+json": {
       "model_id": "15f09805bef04e4a89d3b61e1647c7e6",
       "version_major": 2,
       "version_minor": 0
      },
      "text/plain": [
       "Generating train split:   0%|          | 0/74004228 [00:00<?, ? examples/s]"
      ]
     },
     "metadata": {},
     "output_type": "display_data"
    }
   ],
   "source": [
    "book_corpus = load_dataset(\"bookcorpus/bookcorpus\")"
   ]
  },
  {
   "cell_type": "code",
   "execution_count": 27,
   "id": "e0991662-dcd3-4c35-bcda-0cd459ea41dc",
   "metadata": {},
   "outputs": [
    {
     "data": {
      "text/plain": [
       "Dataset({\n",
       "    features: ['text'],\n",
       "    num_rows: 74004228\n",
       "})"
      ]
     },
     "execution_count": 27,
     "metadata": {},
     "output_type": "execute_result"
    }
   ],
   "source": [
    "book_corpus"
   ]
  },
  {
   "cell_type": "code",
   "execution_count": 13,
   "id": "d2db1874-0564-4c1a-8291-cdfdbe735e6e",
   "metadata": {},
   "outputs": [],
   "source": [
    "def process_text(example):\n",
    "    example['text_no_space'] = example['text'].replace(\" \", \"\")\n",
    "    return example"
   ]
  },
  {
   "cell_type": "code",
   "execution_count": 30,
   "id": "fd41c830-25b9-4516-b352-037406a87611",
   "metadata": {},
   "outputs": [],
   "source": [
    "text_data = book_corpus.select(range(0, 1_000_000)).map(process_text)"
   ]
  },
  {
   "cell_type": "code",
   "execution_count": 31,
   "id": "1f43a986-a015-42d3-a393-871d662cdbe7",
   "metadata": {},
   "outputs": [
    {
     "data": {
      "text/plain": [
       "Dataset({\n",
       "    features: ['text', 'text_no_space'],\n",
       "    num_rows: 1000000\n",
       "})"
      ]
     },
     "execution_count": 31,
     "metadata": {},
     "output_type": "execute_result"
    }
   ],
   "source": [
    "text_data"
   ]
  },
  {
   "cell_type": "code",
   "execution_count": 32,
   "id": "d27f5937-435d-4473-b392-21b3f76f7d78",
   "metadata": {},
   "outputs": [
    {
     "data": {
      "application/vnd.jupyter.widget-view+json": {
       "model_id": "2256aa26624b47daad8043ced631784e",
       "version_major": 2,
       "version_minor": 0
      },
      "text/plain": [
       "Saving the dataset (0/1 shards):   0%|          | 0/1000000 [00:00<?, ? examples/s]"
      ]
     },
     "metadata": {},
     "output_type": "display_data"
    }
   ],
   "source": [
    "text_data.save_to_disk(f\"data/processed_bookcorpus_0\")"
   ]
  },
  {
   "cell_type": "code",
   "execution_count": 36,
   "id": "2f5abf0d-9ced-4180-9f2e-2c7f08339cf8",
   "metadata": {},
   "outputs": [],
   "source": [
    "text_data = load_from_disk(\"data/processed_bookcorpus_0\")"
   ]
  },
  {
   "cell_type": "code",
   "execution_count": 43,
   "id": "0cc603ba-77a2-4658-bd7b-79251ba67adc",
   "metadata": {},
   "outputs": [
    {
     "data": {
      "text/plain": [
       "{'text': ['usually , he would be tearing around the living room , playing with his toys .',\n",
       "  'but just one look at a minion sent him practically catatonic .',\n",
       "  \"that had been megan 's plan when she got him dressed earlier .\",\n",
       "  \"he 'd seen the movie almost by mistake , considering he was a little young for the pg cartoon , but with older cousins , along with her brothers , mason was often exposed to things that were older .\",\n",
       "  'she liked to think being surrounded by adults and older kids was one reason why he was a such a good talker for his age .',\n",
       "  \"`` are n't you being a good boy ? ''\",\n",
       "  'she said .',\n",
       "  'mason barely acknowledged her .',\n",
       "  'instead , his baby blues remained focused on the television .',\n",
       "  'since the movie was almost over , megan knew she better slip into the bedroom and finish getting ready .'],\n",
       " 'text_no_space': ['usually,hewouldbetearingaroundthelivingroom,playingwithhistoys.',\n",
       "  'butjustonelookataminionsenthimpracticallycatatonic.',\n",
       "  \"thathadbeenmegan'splanwhenshegothimdressedearlier.\",\n",
       "  \"he'dseenthemoviealmostbymistake,consideringhewasalittleyoungforthepgcartoon,butwitholdercousins,alongwithherbrothers,masonwasoftenexposedtothingsthatwereolder.\",\n",
       "  'shelikedtothinkbeingsurroundedbyadultsandolderkidswasonereasonwhyhewasasuchagoodtalkerforhisage.',\n",
       "  \"``aren'tyoubeingagoodboy?''\",\n",
       "  'shesaid.',\n",
       "  'masonbarelyacknowledgedher.',\n",
       "  'instead,hisbabybluesremainedfocusedonthetelevision.',\n",
       "  'sincethemoviewasalmostover,meganknewshebetterslipintothebedroomandfinishgettingready.']}"
      ]
     },
     "execution_count": 43,
     "metadata": {},
     "output_type": "execute_result"
    }
   ],
   "source": [
    "text_data[0:10]"
   ]
  },
  {
   "cell_type": "code",
   "execution_count": 45,
   "id": "f0f2902e-4b72-44d0-82cb-bf66a23bde70",
   "metadata": {},
   "outputs": [],
   "source": [
    "from torch.utils.data import Dataset\n",
    "from torch.utils.data import DataLoader"
   ]
  },
  {
   "cell_type": "code",
   "execution_count": 66,
   "id": "9a0205a2-fa7b-434d-af76-3248117148bd",
   "metadata": {},
   "outputs": [],
   "source": [
    "class WordSplitterDataset(Dataset):\n",
    "\n",
    "    def __init__(self, data):\n",
    "        self.data = data\n",
    "        \n",
    "    def __len__(self):\n",
    "        return len(self.data)\n",
    "\n",
    "    def __getitem__(self, idx):\n",
    "        text = self.data[idx][\"text\"]\n",
    "\n",
    "        n = len(text)\n",
    "\n",
    "        inp = []\n",
    "        out = []\n",
    "\n",
    "        for i in range(0, n):\n",
    "            if text[i] == ' ':\n",
    "                continue;\n",
    "            inp.append(text[i])\n",
    "            if i < n - 1 and text[i + 1] == ' ':\n",
    "                out.append(1)\n",
    "            else:\n",
    "                out.append(0)\n",
    "        return inp, out"
   ]
  },
  {
   "cell_type": "code",
   "execution_count": 49,
   "id": "d637dfaa-b290-4ce5-ac79-93fe6ccc267e",
   "metadata": {},
   "outputs": [],
   "source": [
    "data_splits = text_data.train_test_split(0.2)\n",
    "test_split = data_splits[\"test\"].train_test_split(0.5)\n",
    "\n",
    "train_data = data_splits[\"train\"]\n",
    "val_data = test_split[\"train\"]\n",
    "test_data = test_split[\"test\"]"
   ]
  },
  {
   "cell_type": "code",
   "execution_count": 51,
   "id": "d2fdf298-fa92-4d66-903b-9044e5b289f6",
   "metadata": {},
   "outputs": [
    {
     "data": {
      "text/plain": [
       "(Dataset({\n",
       "     features: ['text', 'text_no_space'],\n",
       "     num_rows: 800000\n",
       " }),\n",
       " Dataset({\n",
       "     features: ['text', 'text_no_space'],\n",
       "     num_rows: 100000\n",
       " }),\n",
       " Dataset({\n",
       "     features: ['text', 'text_no_space'],\n",
       "     num_rows: 100000\n",
       " }))"
      ]
     },
     "execution_count": 51,
     "metadata": {},
     "output_type": "execute_result"
    }
   ],
   "source": [
    "train_data, val_data, test_data"
   ]
  },
  {
   "cell_type": "code",
   "execution_count": 67,
   "id": "e062b4d3-670f-4961-9420-8749f724c04f",
   "metadata": {},
   "outputs": [],
   "source": [
    "word_splitter_train = WordSplitterDataset(train_data)\n",
    "word_splitter_val =  WordSplitterDataset(val_data)"
   ]
  },
  {
   "cell_type": "code",
   "execution_count": 68,
   "id": "31b719ab-9e14-4ada-b7c1-c6d63015129d",
   "metadata": {},
   "outputs": [],
   "source": [
    "import torch\n",
    "import torch.nn as nn\n",
    "import torch.nn.functional as F\n",
    "\n",
    "\n",
    "class LSTMWordSplitterModel(nn.Module):\n",
    "    def __init__(self, n_vocab, emd_dim, inp_size, hidden_size,\n",
    "                 num_lstm_layers):\n",
    "        super(LSTMWordSplitterModel, self).__init__()\n",
    "\n",
    "        # embedding layer\n",
    "        self.embedding = nn.Embedding(\n",
    "            num_embeddings=n_vocab,\n",
    "            embedding_dim=emd_dim,\n",
    "        )\n",
    "\n",
    "        \n",
    "        # LSMT layer\n",
    "        self.lstm = nn.LSTM(input_size=inp_size, hidden_size=hidden_size,\n",
    "                            num_layers=num_lstm_layers, dropout=0.1,\n",
    "                            bidirectional=True, batch_first=True)\n",
    "\n",
    "        # FCN layer\n",
    "        self.first_fcn = nn.Linear(hidden_size, hidden_size)\n",
    "        self.second_fcn = nn.Linear(hidden_size, 2)\n",
    "        \n",
    "        self.relu = nn.ReLU()\n",
    "\n",
    "\n",
    "\n",
    "    def forward(self, x, prev_state):\n",
    "        embed = self.embedding(x)\n",
    "        out, state = self.lstm(embed, prev_state)\n",
    "        out = self.first_fcn(out)\n",
    "        out = self.relu(out)\n",
    "        logits = self.second_fcn(out)\n",
    "        return logits, state"
   ]
  },
  {
   "cell_type": "code",
   "execution_count": null,
   "id": "5a064352-4b52-4c9f-ac21-4c8121e97a0a",
   "metadata": {},
   "outputs": [],
   "source": []
  },
  {
   "cell_type": "code",
   "execution_count": null,
   "id": "4dea60cb-d36e-4d69-8e2c-d2b21d22ea73",
   "metadata": {},
   "outputs": [],
   "source": []
  }
 ],
 "metadata": {
  "kernelspec": {
   "display_name": "Python 3 (ipykernel)",
   "language": "python",
   "name": "python3"
  },
  "language_info": {
   "codemirror_mode": {
    "name": "ipython",
    "version": 3
   },
   "file_extension": ".py",
   "mimetype": "text/x-python",
   "name": "python",
   "nbconvert_exporter": "python",
   "pygments_lexer": "ipython3",
   "version": "3.9.20"
  }
 },
 "nbformat": 4,
 "nbformat_minor": 5
}
